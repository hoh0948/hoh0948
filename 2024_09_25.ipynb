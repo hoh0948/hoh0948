{
  "nbformat": 4,
  "nbformat_minor": 0,
  "metadata": {
    "colab": {
      "provenance": [],
      "authorship_tag": "ABX9TyO1dEpzr0Ed9PfMMYry3mRw",
      "include_colab_link": true
    },
    "kernelspec": {
      "name": "python3",
      "display_name": "Python 3"
    },
    "language_info": {
      "name": "python"
    }
  },
  "cells": [
    {
      "cell_type": "markdown",
      "metadata": {
        "id": "view-in-github",
        "colab_type": "text"
      },
      "source": [
        "<a href=\"https://colab.research.google.com/github/hoh0948/hoh0948/blob/main/2024_09_25.ipynb\" target=\"_parent\"><img src=\"https://colab.research.google.com/assets/colab-badge.svg\" alt=\"Open In Colab\"/></a>"
      ]
    },
    {
      "cell_type": "code",
      "execution_count": 43,
      "metadata": {
        "colab": {
          "base_uri": "https://localhost:8080/"
        },
        "id": "07lZAClEzdqa",
        "outputId": "f37a2ee9-bbdc-4e64-abf8-7819344291b1"
      },
      "outputs": [
        {
          "output_type": "stream",
          "name": "stdout",
          "text": [
            "나는 소년입니다\n",
            "파이썬은 쉬워요\n",
            "\n",
            "나는 소년이고,\n",
            "파이썬은 쉬워요\n",
            "\n",
            "파인애플\n"
          ]
        }
      ],
      "source": [
        "#문자열\n",
        "sentence = '나는 소년입니다'\n",
        "print(sentence)\n",
        "\n",
        "sentence2 = \"파이썬은 쉬워요\"\n",
        "print(sentence2)\n",
        "\n",
        "sentence3 = \"\"\"\n",
        "나는 소년이고,\n",
        "파이썬은 쉬워요\n",
        "\"\"\"\n",
        "print(sentence3)"
      ]
    },
    {
      "cell_type": "code",
      "source": [
        "#슬라이싱\n",
        "jumin = \"011009-1234567\"\n",
        "\n",
        "print(\"성별 : \" + jumin[7])\n",
        "print(\"연 : \" + jumin[0:2]) # 0 부터 2 직전까지 (0, 1)\n",
        "print(\"월 : \" + jumin[2:4]) # 2부터 4 직전까지 (2, 3)\n",
        "print(\"일 : \" + jumin[4:6])\n",
        "\n",
        "print(\"생년월일 : \" + jumin[0:6]) # 0부터 6 직전까지\n",
        "print(\"생년월일 : \" + jumin[:6]) #처음부터 6 직전까지\n",
        "print(\"뒤 7자리 : \" + jumin[7:14])\n",
        "print(\"뒤 7자리 : \" + jumin[7:]) # 7부터 끝까지\n",
        "print(\"뒤 7자리 (뒤에부터) : \" + jumin[-7:]) # 맨 뒤에서 7번째부터 끝까지"
      ],
      "metadata": {
        "colab": {
          "base_uri": "https://localhost:8080/"
        },
        "id": "rL01SFfsz1pP",
        "outputId": "8cfbbf4a-c127-478b-f3f3-2858f5cd6508"
      },
      "execution_count": 8,
      "outputs": [
        {
          "output_type": "stream",
          "name": "stdout",
          "text": [
            "성별 : 1\n",
            "연 : 01\n",
            "월 : 10\n",
            "일 : 09\n",
            "생년월일 : 011009\n",
            "생년월일 : 011009\n",
            "뒤 7자리 : 1234567\n",
            "뒤 7자리 : 1234567\n",
            "뒤 7자리 (뒤에부터) 1234567\n"
          ]
        }
      ]
    },
    {
      "cell_type": "code",
      "source": [
        "# 문자열처리함수\n",
        "python = \"Python is Amazing\"\n",
        "print(python.lower()) # lower = 소문자 출력\n",
        "print(python.upper()) # upper = 대문자 출력\n",
        "print(python[0].isupper())\n",
        "print(len(python))\n",
        "print(python.replace(\"Python\", \"Java\"))\n",
        "\n",
        "index = python.index(\"n\")\n",
        "print(index)\n",
        "index = python.index(\"n\", index + 1)\n",
        "print(index)\n",
        "\n",
        "print(python.find(\"n\"))\n",
        "print(python.find(\"Java\"))\n",
        "#print(python.index(\"Java\"))\n",
        "print(\"hi\")\n",
        "\n",
        "print(python.count(\"n\"))\n"
      ],
      "metadata": {
        "colab": {
          "base_uri": "https://localhost:8080/"
        },
        "id": "BlWAV3Ki1ap9",
        "outputId": "d735dcc9-7a0b-4e26-8c02-9973f5cdccfa"
      },
      "execution_count": 17,
      "outputs": [
        {
          "output_type": "stream",
          "name": "stdout",
          "text": [
            "python is amazing\n",
            "PYTHON IS AMAZING\n",
            "True\n",
            "17\n",
            "Java is Amazing\n",
            "5\n",
            "15\n",
            "5\n",
            "-1\n",
            "hi\n",
            "2\n"
          ]
        }
      ]
    },
    {
      "cell_type": "code",
      "source": [
        "# 문자열 포맷\n",
        "print(\"a\" + \"b\")\n",
        "print(\"a\" , \"b\")\n",
        "\n",
        "# 방법 1\n",
        "print(\"나는 %d살입니다.\" % 20)\n",
        "print(\"나는 %s을 좋아해요.\" % \"파이썬\")\n",
        "print(\"Apple은 %c로 시작해요.\" % \"A\")\n",
        "print(\"나는 %s살입니다.\" % 20)\n",
        "print(\"나는 %s색과 %s색을 좋아해요.\" %(\"파란\", \"빨간\"))\n",
        "\n",
        "# 방법 2\n",
        "print(\"나는 {}살입니다.\".format(20))\n",
        "print(\"나는 {}색과 {}색을 좋아해요.\".format(\"파란\", \"빨간\"))\n",
        "print(\"나는 {0}색과 {1}색을 좋아해요.\".format(\"파란\", \"빨간\"))\n",
        "print(\"나는 {1}색과 {0}색을 좋아해요.\".format(\"파란\", \"빨간\"))\n",
        "\n",
        "# 방법 3\n",
        "print(\"나는 {age}살이며, {color}색을 좋아해요.\".format(age = 20, color=\"빨간\"))\n",
        "print(\"나는 {age}살이며, {color}색을 좋아해요.\".format(color = \"빨간\", age = 20))\n",
        "\n",
        "# 방법 4\n",
        "age = 20\n",
        "color = \"빨간\"\n",
        "print(f\"나는 {age}살이며, {color}색을 좋아해요.\")"
      ],
      "metadata": {
        "colab": {
          "base_uri": "https://localhost:8080/"
        },
        "id": "V7wTOgmM27fl",
        "outputId": "2c1c1623-2dc3-4925-957c-e7be01145222"
      },
      "execution_count": 28,
      "outputs": [
        {
          "output_type": "stream",
          "name": "stdout",
          "text": [
            "ab\n",
            "a b\n",
            "나는 20살입니다.\n",
            "나는 파이썬을 좋아해요.\n",
            "Apple은 A로 시작해요.\n",
            "나는 20살입니다.\n",
            "나는 파란색과 빨간색을 좋아해요.\n",
            "나는 20살입니다.\n",
            "나는 파란색과 빨간색을 좋아해요.\n",
            "나는 파란색과 빨간색을 좋아해요.\n",
            "나는 빨간색과 파란색을 좋아해요.\n",
            "나는 20살이며, 빨간색을 좋아해요.\n",
            "나는 20살이며, 빨간색을 좋아해요.\n",
            "나는 20살이며, 빨간색을 좋아해요.\n"
          ]
        }
      ]
    },
    {
      "cell_type": "code",
      "source": [
        "#탈출 문자\n",
        "print(\"백문이 불여일견\\n백견이 불여일타\")\n",
        "\n",
        "# \\\" , \\' : 문장 내에서 따옴표\n",
        "print(\"저는 '나도코딩'입니다.\")\n",
        "print('저는 \"나도코딩\"입니다.')\n",
        "print(\"저는 \\\"나도코딩\\\"입니다.\")\n",
        "print(\"저는 \\'나도코딩\\'입니다.\")\n",
        "\n",
        "# \\\\ : 문장 내에서 \\\n",
        "print(\"C:\\\\Users\\\\Nadocoding\\\\Desktop\\\\PythonWorkspace>\")\n",
        "\n",
        "# \\r : 커서를 맨 앞으로 이동\n",
        "print(\"Red Apple \\rPine\")\n",
        "\n",
        "# \\b : 백스페이스 (한글자 삭제)\n",
        "print(\"Redd\\bApple\")\n",
        "\n",
        "# \\t : 탭\n",
        "print(\"Red\\tApple\")\n",
        "\n"
      ],
      "metadata": {
        "colab": {
          "base_uri": "https://localhost:8080/"
        },
        "id": "TXA-Cve_3jYG",
        "outputId": "1719c534-534d-47e5-ffeb-3b2ef6d15000"
      },
      "execution_count": 42,
      "outputs": [
        {
          "output_type": "stream",
          "name": "stdout",
          "text": [
            "백문이 불여일견\n",
            "백견이 불여일타\n",
            "저는 '나도코딩'입니다.\n",
            "저는 \"나도코딩\"입니다.\n",
            "저는 \"나도코딩\"입니다.\n",
            "저는 '나도코딩'입니다.\n",
            "C:\\Users\\Nadocoding\\Desktop\\PythonWorkspace>\n",
            "Red Apple \rPine\n",
            "Redd\bApple\n",
            "Red\tApple\n"
          ]
        }
      ]
    },
    {
      "cell_type": "code",
      "source": [
        "#퀴즈\n",
        "#url = \"http://naver.com\"\n",
        "url = \"http://google.com\"\n",
        "my_str = url.replace(\"http://\", \"\") #규칙 1\n",
        "#print(my_str)\n",
        "my_str = my_str[:my_str.index(\".\")] # my_str[0:5] -> 0~ 5 직전까지 규칙 2\n",
        "#print(my_str)\n",
        "password = my_str[:3] + str(len(my_str)) + str(my_str.count(\"e\")) + \"!\"\n",
        "print(\"{0} 의 비밀번호는 {1} 입니다.\".format(url, password))"
      ],
      "metadata": {
        "colab": {
          "base_uri": "https://localhost:8080/"
        },
        "id": "8ZKfH2QC6_Xo",
        "outputId": "f561d9c3-a5e5-4a93-bb5e-fe661735553a"
      },
      "execution_count": 47,
      "outputs": [
        {
          "output_type": "stream",
          "name": "stdout",
          "text": [
            "http://google.com 의 비밀번호는 goo61! 입니다.\n"
          ]
        }
      ]
    },
    {
      "cell_type": "code",
      "source": [
        "# 영어문장이 주어졌을때 첫번째 글자는 대문자로, 나머지 글자는 모두 소문자로\n",
        "# 변환하는 프로그램을 작성하세요.\n",
        "# the early bird catches the worm.\n",
        "# Actions Speak Louder Than Words.\n",
        "# PRACTICE MAKES PERPECT.\n",
        "\n",
        "sentence = \"the early bird catches the worm.\"\n",
        "print(sentence[0].upper() + sentence[1:].lower())\n",
        "\n",
        "sentence1 = \"Actions Speak Louder Than Words.\"\n",
        "print(sentence1.replace(\"Speak Louder Than Words\", \"speak louder than words\"))\n",
        "\n",
        "sentence2 = \"PRACTICE MAKES PERPECT.\"\n",
        "print(sentence2[0].upper() + sentence2[1:].lower())"
      ],
      "metadata": {
        "colab": {
          "base_uri": "https://localhost:8080/"
        },
        "id": "LKaflw_SAdS9",
        "outputId": "e3689998-2ad1-4629-bab2-c0e0ac273f57"
      },
      "execution_count": 72,
      "outputs": [
        {
          "output_type": "stream",
          "name": "stdout",
          "text": [
            "The early bird catches the worm.\n",
            "Actions speak louder than words.\n",
            "Practice makes perpect.\n"
          ]
        }
      ]
    }
  ]
}