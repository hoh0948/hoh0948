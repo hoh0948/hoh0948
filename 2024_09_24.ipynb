{
  "nbformat": 4,
  "nbformat_minor": 0,
  "metadata": {
    "colab": {
      "provenance": [],
      "authorship_tag": "ABX9TyNkkFzW6ukR5/s22JFBkxL5",
      "include_colab_link": true
    },
    "kernelspec": {
      "name": "python3",
      "display_name": "Python 3"
    },
    "language_info": {
      "name": "python"
    }
  },
  "cells": [
    {
      "cell_type": "markdown",
      "metadata": {
        "id": "view-in-github",
        "colab_type": "text"
      },
      "source": [
        "<a href=\"https://colab.research.google.com/github/hoh0948/hoh0948/blob/main/2024_09_24.ipynb\" target=\"_parent\"><img src=\"https://colab.research.google.com/assets/colab-badge.svg\" alt=\"Open In Colab\"/></a>"
      ]
    },
    {
      "cell_type": "code",
      "source": [
        "print(1+1)\n",
        "print(3-2)\n",
        "print(5*2)\n",
        "print(6/3)\n",
        "\n",
        "print(2**3) # 2^3 = 8\n",
        "print(5 % 3) #나머지 구하기\n",
        "print(10%3)\n",
        "print(5//3)\n",
        "print(10//3)\n",
        "\n",
        "print(10 > 3)\n",
        "print(4 >= 7)\n",
        "print(10 < 3)\n",
        "print(5 <= 5)\n",
        "\n",
        "print(3 == 3)\n",
        "print( 4 == 2)\n",
        "print(3 +4 == 7)\n",
        "\n"
      ],
      "metadata": {
        "colab": {
          "base_uri": "https://localhost:8080/"
        },
        "id": "D3ZAvfrPaRAK",
        "outputId": "93dc407c-66c0-47f5-d99b-eb3f77de5593"
      },
      "execution_count": 4,
      "outputs": [
        {
          "output_type": "stream",
          "name": "stdout",
          "text": [
            "2\n",
            "1\n",
            "10\n",
            "2.0\n",
            "8\n",
            "2\n",
            "1\n",
            "1\n",
            "3\n",
            "True\n",
            "False\n",
            "False\n",
            "True\n",
            "True\n",
            "False\n",
            "True\n"
          ]
        }
      ]
    },
    {
      "cell_type": "code",
      "source": [
        "print(1 != 3) #앞뒤가 같지 않다.\n",
        "print(not(1 != 3))\n",
        "\n",
        "print((3 > 0) and (3 <5))\n",
        "print((3 > 0) & (3 <5))\n",
        "\n",
        "print((3 > 0) or (3 > 5))\n",
        "print((3 > 0) | (3 > 5))\n",
        "\n",
        "print(5 > 4 > 3)\n",
        "print(5> 4 > 7)\n",
        "\n"
      ],
      "metadata": {
        "colab": {
          "base_uri": "https://localhost:8080/"
        },
        "id": "QXdQYNofacAw",
        "outputId": "b185b75d-bc20-4711-b845-c9707a2e234a"
      },
      "execution_count": 7,
      "outputs": [
        {
          "output_type": "stream",
          "name": "stdout",
          "text": [
            "True\n",
            "False\n",
            "True\n",
            "True\n",
            "True\n",
            "True\n",
            "True\n",
            "False\n"
          ]
        }
      ]
    },
    {
      "cell_type": "code",
      "source": [
        "print( 2 + 3 * 4)\n",
        "print((2 + 3) * 4)\n",
        "number = 2 + 3 * 4\n",
        "print(number)\n",
        "number = number + 2\n",
        "print(number)\n",
        "number += 2\n",
        "print(number)\n",
        "number *= 2\n",
        "print(number)\n",
        "number /= 2\n",
        "print(number)\n",
        "number -= 2\n",
        "print(number)\n",
        "\n",
        "number %= 2\n",
        "print(number)\n",
        "\n",
        "number %= 5\n",
        "print(number)"
      ],
      "metadata": {
        "colab": {
          "base_uri": "https://localhost:8080/"
        },
        "id": "j4bLYq-TbnEB",
        "outputId": "11c83679-4ad3-42e1-dea1-da627b2c2043"
      },
      "execution_count": 12,
      "outputs": [
        {
          "output_type": "stream",
          "name": "stdout",
          "text": [
            "14\n",
            "20\n",
            "14\n",
            "16\n",
            "18\n",
            "36\n",
            "18.0\n",
            "16.0\n",
            "1.0\n",
            "1.0\n"
          ]
        }
      ]
    },
    {
      "cell_type": "code",
      "source": [
        "print(abs(-5))\n",
        "print(pow(4, 2)) # 4^2\n",
        "print(max(5, 12)) # 최댓값\n",
        "print(min(5, 12)) # 최솟값\n",
        "print(round(3.14)) # 반올림 3\n",
        "print(round(4.99)) #반올림 4\n",
        "\n",
        "from math import *\n",
        "print(floor(4.99)) #내림\n",
        "print(ceil(3.14)) #올림\n",
        "print(sqrt(16)) #제곱근"
      ],
      "metadata": {
        "colab": {
          "base_uri": "https://localhost:8080/"
        },
        "id": "J14dBhiGcb0r",
        "outputId": "610b11be-e7c1-434e-cfcf-35c5e7f93c3c"
      },
      "execution_count": 14,
      "outputs": [
        {
          "output_type": "stream",
          "name": "stdout",
          "text": [
            "5\n",
            "16\n",
            "12\n",
            "5\n",
            "3\n",
            "5\n",
            "4\n",
            "4\n",
            "4.0\n"
          ]
        }
      ]
    },
    {
      "cell_type": "code",
      "source": [
        "#랜덤함수\n",
        "from random import *\n",
        "\n",
        "print(random()) # 0.0 ~ 1.0 의 랜덤한 수\n",
        "print(random() * 10) #0.0 ~ 10.0 미만의 임의의 값 생성\n",
        "print(int(random() * 10)) # 0~ 10미만의 임의의 값 생성\n",
        "print(int(random() * 10) +1) # 1~ 10 이하의 임의의 값 생성\n",
        "\n",
        "print(int(random() * 45 ) + 1 )\n",
        "print(randrange(1, 46)) # 1 ~ 46미만의 임의의 값 생성 randrange = 마지막숫자 포함X\n",
        "\n",
        "print(randint(1, 45)) # 1~ 45 이하의 임의의 값 생성   randint = 양끝 숫자 포함\n",
        "\n"
      ],
      "metadata": {
        "colab": {
          "base_uri": "https://localhost:8080/"
        },
        "id": "GGzqtXiKdUe3",
        "outputId": "dc320277-f77e-4590-d5dd-2fc31970d68c"
      },
      "execution_count": 24,
      "outputs": [
        {
          "output_type": "stream",
          "name": "stdout",
          "text": [
            "0.07167375069427484\n",
            "4.777946883548915\n",
            "8\n",
            "6\n",
            "28\n",
            "9\n"
          ]
        }
      ]
    },
    {
      "cell_type": "code",
      "source": [
        "#실습문제\n",
        "from random import *\n",
        "\n",
        "number = (randint(4, 28))\n",
        "print(number)\n",
        "print(\"오프라인 스터디 모임 날짜는 매월  \"+str(number) +\" 일로 선정됐습니다.\")\n"
      ],
      "metadata": {
        "colab": {
          "base_uri": "https://localhost:8080/"
        },
        "id": "lyrK3Ceqe7tM",
        "outputId": "414c38c3-7210-48d5-b6ed-ec4bafd47309"
      },
      "execution_count": 62,
      "outputs": [
        {
          "output_type": "stream",
          "name": "stdout",
          "text": [
            "4\n",
            "오프라인 스터디 모임 날짜는 매월  4 일로 선정됐습니다.\n"
          ]
        }
      ]
    }
  ]
}