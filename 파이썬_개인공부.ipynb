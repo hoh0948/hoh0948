{
  "nbformat": 4,
  "nbformat_minor": 0,
  "metadata": {
    "colab": {
      "provenance": [],
      "authorship_tag": "ABX9TyM1dhnVctbUbDE/EzHS1giv",
      "include_colab_link": true
    },
    "kernelspec": {
      "name": "python3",
      "display_name": "Python 3"
    },
    "language_info": {
      "name": "python"
    }
  },
  "cells": [
    {
      "cell_type": "markdown",
      "metadata": {
        "id": "view-in-github",
        "colab_type": "text"
      },
      "source": [
        "<a href=\"https://colab.research.google.com/github/hoh0948/hoh0948/blob/main/%ED%8C%8C%EC%9D%B4%EC%8D%AC_%EA%B0%9C%EC%9D%B8%EA%B3%B5%EB%B6%80.ipynb\" target=\"_parent\"><img src=\"https://colab.research.google.com/assets/colab-badge.svg\" alt=\"Open In Colab\"/></a>"
      ]
    },
    {
      "cell_type": "code",
      "execution_count": 1,
      "metadata": {
        "colab": {
          "base_uri": "https://localhost:8080/"
        },
        "id": "1huu_TCXbO58",
        "outputId": "c5416132-b68c-477d-9796-67d97f954af4"
      },
      "outputs": [
        {
          "output_type": "stream",
          "name": "stdout",
          "text": [
            "Hello world\n"
          ]
        }
      ],
      "source": [
        "print(\"Hello world\")"
      ]
    },
    {
      "cell_type": "code",
      "source": [
        "print(5)"
      ],
      "metadata": {
        "colab": {
          "base_uri": "https://localhost:8080/"
        },
        "id": "5v25p7yidIH8",
        "outputId": "abe56013-55f4-41b6-a4d7-eecc50e37473"
      },
      "execution_count": 2,
      "outputs": [
        {
          "output_type": "stream",
          "name": "stdout",
          "text": [
            "5\n"
          ]
        }
      ]
    },
    {
      "cell_type": "code",
      "source": [
        "print(-10)"
      ],
      "metadata": {
        "colab": {
          "base_uri": "https://localhost:8080/"
        },
        "id": "RxWe-NYzdp41",
        "outputId": "18330495-5eb0-4ba6-bd9e-281613c879dd"
      },
      "execution_count": 3,
      "outputs": [
        {
          "output_type": "stream",
          "name": "stdout",
          "text": [
            "-10\n"
          ]
        }
      ]
    },
    {
      "cell_type": "code",
      "source": [
        "print(3.14\n",
        "      )"
      ],
      "metadata": {
        "colab": {
          "base_uri": "https://localhost:8080/"
        },
        "id": "dYgb4kx-dtoz",
        "outputId": "9787f73d-1382-41f0-a92d-01ecbc039f8c"
      },
      "execution_count": 4,
      "outputs": [
        {
          "output_type": "stream",
          "name": "stdout",
          "text": [
            "3.14\n"
          ]
        }
      ]
    },
    {
      "cell_type": "code",
      "source": [
        "print(1000)"
      ],
      "metadata": {
        "colab": {
          "base_uri": "https://localhost:8080/"
        },
        "id": "JHTut9Uudwf3",
        "outputId": "2885710b-a573-4a53-ba97-a82d8dac5b1d"
      },
      "execution_count": 5,
      "outputs": [
        {
          "output_type": "stream",
          "name": "stdout",
          "text": [
            "1000\n"
          ]
        }
      ]
    },
    {
      "cell_type": "code",
      "source": [
        "print(5+3)"
      ],
      "metadata": {
        "colab": {
          "base_uri": "https://localhost:8080/"
        },
        "id": "kKyqko2Cd2Op",
        "outputId": "fb24ab14-b656-4dee-c11b-8adc1acc26f3"
      },
      "execution_count": 6,
      "outputs": [
        {
          "output_type": "stream",
          "name": "stdout",
          "text": [
            "8\n"
          ]
        }
      ]
    },
    {
      "cell_type": "code",
      "source": [
        "print(2*8)"
      ],
      "metadata": {
        "colab": {
          "base_uri": "https://localhost:8080/"
        },
        "id": "3W78ufF7d6Wp",
        "outputId": "b144e4e1-4f6f-427a-ff57-fb5f3c0b4b7d"
      },
      "execution_count": 7,
      "outputs": [
        {
          "output_type": "stream",
          "name": "stdout",
          "text": [
            "16\n"
          ]
        }
      ]
    },
    {
      "cell_type": "code",
      "source": [
        "print(3*(3+1))"
      ],
      "metadata": {
        "colab": {
          "base_uri": "https://localhost:8080/"
        },
        "id": "36g4TN2Kd-nB",
        "outputId": "d1724cab-d760-4e49-8b9c-9319ef8d4280"
      },
      "execution_count": 8,
      "outputs": [
        {
          "output_type": "stream",
          "name": "stdout",
          "text": [
            "12\n"
          ]
        }
      ]
    },
    {
      "cell_type": "code",
      "source": [
        "print('풍선')"
      ],
      "metadata": {
        "colab": {
          "base_uri": "https://localhost:8080/"
        },
        "id": "Q--_OgkreEHC",
        "outputId": "f611e043-069f-4933-f0cd-f969c31e74e5"
      },
      "execution_count": 9,
      "outputs": [
        {
          "output_type": "stream",
          "name": "stdout",
          "text": [
            "풍선\n"
          ]
        }
      ]
    },
    {
      "cell_type": "code",
      "source": [
        "print(\"나비\")"
      ],
      "metadata": {
        "colab": {
          "base_uri": "https://localhost:8080/"
        },
        "id": "BWpNVY_CeM8C",
        "outputId": "d7daa4fd-33e2-4ffb-e92b-d979bd3709b6"
      },
      "execution_count": 10,
      "outputs": [
        {
          "output_type": "stream",
          "name": "stdout",
          "text": [
            "나비\n"
          ]
        }
      ]
    },
    {
      "cell_type": "code",
      "source": [
        "print(\"ㅋㅋㅋㅋㅋㅋㅋㅋ\")"
      ],
      "metadata": {
        "colab": {
          "base_uri": "https://localhost:8080/"
        },
        "id": "vqjmYbuIeTtt",
        "outputId": "bf1caa25-c14b-4ab2-e43c-d7e010bfca39"
      },
      "execution_count": 11,
      "outputs": [
        {
          "output_type": "stream",
          "name": "stdout",
          "text": [
            "ㅋㅋㅋㅋㅋㅋㅋㅋ\n"
          ]
        }
      ]
    },
    {
      "cell_type": "code",
      "source": [
        "print(\"ㅋ\"*9)"
      ],
      "metadata": {
        "colab": {
          "base_uri": "https://localhost:8080/"
        },
        "id": "-VKfR_LceW7P",
        "outputId": "0318b554-2e87-4427-f557-2296a514ecd8"
      },
      "execution_count": 12,
      "outputs": [
        {
          "output_type": "stream",
          "name": "stdout",
          "text": [
            "ㅋㅋㅋㅋㅋㅋㅋㅋㅋ\n"
          ]
        }
      ]
    },
    {
      "cell_type": "code",
      "source": [
        "# 참 /거짓\n",
        "print(5>10)\n",
        "print(5<10)\n",
        "print(True)\n",
        "print(False)\n",
        "print(not True)\n",
        "print(not False)\n",
        "print(not (5>10))"
      ],
      "metadata": {
        "colab": {
          "base_uri": "https://localhost:8080/"
        },
        "id": "dpqWXesleccK",
        "outputId": "94b805fb-0777-416d-f3a8-160b308aec3b"
      },
      "execution_count": 19,
      "outputs": [
        {
          "output_type": "stream",
          "name": "stdout",
          "text": [
            "False\n",
            "True\n",
            "True\n",
            "False\n",
            "False\n",
            "True\n",
            "True\n"
          ]
        }
      ]
    },
    {
      "cell_type": "code",
      "source": [
        "# 변수 애완동물을 소개해 주세요~\n",
        "animal = \"강아지\"\n",
        "name = \"연탄이\"\n",
        "age = 4\n",
        "hobby = \"산책\"\n",
        "is_adult = age >= 3\n",
        "\n",
        "\n",
        "print(\"우리집 \" + animal + \"의 이름은 \" + name + \"예요\")\n",
        "print(name + \"는 \" + str(age) + \"살이며, \" + hobby + \"을 아주 좋아해요\")\n",
        "print(name + \"는 어른일까요? \" + str(is_adult))\n",
        "\n"
      ],
      "metadata": {
        "colab": {
          "base_uri": "https://localhost:8080/"
        },
        "id": "BESOmPave5D2",
        "outputId": "c1fea522-ccf8-42db-a65a-b601d5bed39f"
      },
      "execution_count": 21,
      "outputs": [
        {
          "output_type": "stream",
          "name": "stdout",
          "text": [
            "우리집 강아지의 이름은 연탄이예요\n",
            "연탄이는 4살이며, 산책을 아주 좋아해요\n",
            "연탄이는 어른일까요? True\n"
          ]
        }
      ]
    },
    {
      "cell_type": "code",
      "source": [
        "# 주석\n",
        "\n",
        "# print(\"우리집 \" + animal + \"의 이름은 \" + name + \"예요\")\n",
        "# print(name + \"는 \" + str(age) + \"살이며, \" + hobby + \"을 아주 좋아해요\")\n",
        "# print(name + \"는 어른일까요? \" + str(is_adult))\n"
      ],
      "metadata": {
        "id": "D38Ahvpbgiaw"
      },
      "execution_count": null,
      "outputs": []
    },
    {
      "cell_type": "code",
      "source": [
        "# 변수명\n",
        "#  : station\n",
        "\n",
        "\n",
        "# 변수값\n",
        "# : \"사당\", \"신도림\", \"인천공항\" 순서대로 입력\n",
        "\n",
        "# 출력문장 : XX행 열차가 들어오고 있습니다.\n",
        "\n",
        "station = \"사당\"\n",
        "station1 = \"신도림\"\n",
        "station2 = \"인천공항\"\n",
        "print(station + \" 행 열차가 들어오고 있습니다.\")\n",
        "print(station1 + \" 행 열차가 들어오고 있습니다.\")\n",
        "print(station2 + \" 행 열차가 들어오고 있습니다.\")"
      ],
      "metadata": {
        "colab": {
          "base_uri": "https://localhost:8080/"
        },
        "id": "xCz67OtphC9Q",
        "outputId": "f5d9f840-14a9-4a45-d452-882640458ac1"
      },
      "execution_count": 31,
      "outputs": [
        {
          "output_type": "stream",
          "name": "stdout",
          "text": [
            "사당 행 열차가 들어오고 있습니다.\n",
            "신도림 행 열차가 들어오고 있습니다.\n",
            "인천공항 행 열차가 들어오고 있습니다.\n"
          ]
        }
      ]
    },
    {
      "cell_type": "code",
      "source": [
        "#연산자\n",
        "\n",
        "print(1+1)\n",
        "print(3-2)\n",
        "print(5*2)\n",
        "print(6/3)\n",
        "\n",
        "print(2**3) #2^3=8\n",
        "print(5%3) #나머지 구하기 2\n",
        "print(10%3) #1\n",
        "print(5//3) #몫 구하기 1\n",
        "print(10//3) #3\n",
        "\n",
        "print(10 > 3) #True\n",
        "print(4 >= 7) #False\n",
        "print(10 <3) #False\n",
        "print(5 <= 5) #True\n",
        "\n",
        "print(3 == 3)#True\n",
        "print(4 == 2)#False\n",
        "print(3 + 4 == 7)#False\n",
        "\n",
        "print(1 != 3) #True\n",
        "print(not(1 != 3)) #False\n",
        "\n",
        "print((3 > 0) and (3 < 5)) #True\n",
        "print((3 > 0) & (3 < 5)) #True\n",
        "\n",
        "print((3 > 0) or (3 > 5)) #True\n",
        "print((3 > 0) | (3 > 5)) #True\n",
        "\n",
        "print(5 > 4 > 3) #True\n",
        "print( 5 > 4 > 7) #False"
      ],
      "metadata": {
        "colab": {
          "base_uri": "https://localhost:8080/"
        },
        "id": "wtNOT9YvjKcg",
        "outputId": "5d03b312-592e-4ac5-84a7-56e586b85979"
      },
      "execution_count": 39,
      "outputs": [
        {
          "output_type": "stream",
          "name": "stdout",
          "text": [
            "2\n",
            "1\n",
            "10\n",
            "2.0\n",
            "8\n",
            "2\n",
            "1\n",
            "1\n",
            "3\n",
            "True\n",
            "False\n",
            "False\n",
            "True\n",
            "True\n",
            "False\n",
            "True\n",
            "True\n",
            "False\n",
            "True\n",
            "True\n",
            "True\n",
            "True\n",
            "True\n",
            "False\n"
          ]
        }
      ]
    }
  ]
}